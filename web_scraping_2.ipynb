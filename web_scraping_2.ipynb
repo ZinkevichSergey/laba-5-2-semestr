{
 "cells": [
  {
   "cell_type": "markdown",
   "metadata": {
    "colab_type": "text",
    "id": "vg-HOITYJAy0"
   },
   "source": [
    "#### Основы программирования в Python для социальных наук\n",
    "\n",
    "*Автор: Татьяна Рогович, НИУ ВШЭ*\n",
    "\n",
    "\n",
    "## Cамостоятельная работа 3\n",
    "\n",
    "## Вариант 1\n",
    "\n",
    "Самостоятельная работа по темам:\n",
    "\n",
    "* Web-scraping\n",
    "\n",
    "**Списывание и использование телефонов**\n",
    "\n",
    "Первое предупреждение, сделанное ассистентом или преподавателем: - 1 балл к вашей оценке. \n",
    "\n",
    "Второе предупреждение: работа аннулируется без права переписывания.\n",
    "\n",
    "**Все задачи, где не указано иного, должны принимать значения на ввод (решение для частного случая будет считаться неполным).**"
   ]
  },
  {
   "cell_type": "markdown",
   "metadata": {
    "colab_type": "text",
    "id": "S3g4tDtrMoxX"
   },
   "source": [
    "**Задание 1.**  \n",
    "*5 баллов*  \n",
    "\n",
    "1. На странице в https://en.wikipedia.org/wiki/List_of_Rick_and_Morty_episodes нужно найти таблицу под названием \"Season 1 (2013–14)\". \n",
    "2. С помощью поиска по тегам, нужно сохранить из таблицы следующие колонки: 'Title', 'Directed By', 'U.S. viewers (millions)'. Каждая колонка таблицы должна быть сохранена в отдельную переменную (см. ниже названия), внутри которой лежит список, где первое значение - название колонки. \n",
    "\n",
    "Обратите внимание, положение элемента в ряде с table headers (th) и в обыкновенных рядах (теги td) может не совпадать.\n",
    "\n",
    "Например, колонки 'Title' список будет выглядеть так:  \n",
    "['Title', \"Pilot\", ...остальные значения..., \t\"Ricksy Business\"]\n",
    "\n",
    "Значения для 'U.S. viewers (millions)' на этом этапе могут содержать ссылки (например, '1.10[7]')\n",
    "\n",
    "3. Выведите эти три списка командой  \n",
    "print(titles)  \n",
    "print(directors)  \n",
    "print(viewers)"
   ]
  },
  {
   "cell_type": "code",
   "execution_count": null,
   "metadata": {
    "colab": {},
    "colab_type": "code",
    "id": "KRw05f_FKOXQ"
   },
   "outputs": [],
   "source": [
    "# Ваше решение. При необходимости создавайте новые ячейки под этой с помощью знака +"
   ]
  },
  {
   "cell_type": "markdown",
   "metadata": {
    "colab_type": "text",
    "id": "sZFN--3fNTt2"
   },
   "source": [
    "**Задание 2.**  \n",
    "*5 баллов (каждый шаг 1 балл)*  \n",
    "\n",
    "1. Из списка viewers удалите то, что в wiki было ссылками (номера в квадратных строках) и переведите значения во float.\n",
    "Правильный список viewers будет выглядеть так:  \n",
    "['U.S. viewers(millions)', 1.1 ...]\n",
    "\n",
    "2. Создайте словарь season1, в котором ключ - название эпизода, а значение - список из имени режиссера, количества зрителей (в формате float), и номера эпизода (не учитывая названия колонок в нулевом элементе). Например, пара ключ-значение для первого эпизода будет выглядеть так  \n",
    "`'\"Pilot\"': ['Justin Roiland', 1.1, 1]`\n",
    "2. Напишите функцию, которая берет аргументом название эпизода и печатает следующую строку: {номер эпизода} Episode {название эпизода} (directed by {имя режиссера} was watched by {количество зрителей} million viewers in the US.\n",
    "\n",
    "3. Запустите вашу функцию в цикле для всех эпизодов (не учитывая названия колонки в нулевом элементе).\n",
    "\n",
    "5. Сколько всего зрителей посмотрело эпизоды, которые режиссировал Stephen Sandoval?"
   ]
  },
  {
   "cell_type": "code",
   "execution_count": 26,
   "metadata": {},
   "outputs": [
    {
     "name": "stdout",
     "output_type": "stream",
     "text": [
      "['Title', '\"Pilot\"', '\"Lawnmower Dog\"', '\"Anatomy Park\"', '\"M. Night Shaym-Aliens!\"', '\"Meeseeks and Destroy\"', '\"Rick Potion #9\"', '\"Raising Gazorpazorp\"', '\"Rixty Minutes\"', '\"Something Ricked This Way Comes\"', '\"Close Rick-counters of the Rick Kind\"', '\"Ricksy Business\"']\n",
      "['U.S. viewers(millions)', '1.10[5]', '1.51[6]', '1.30[7]', '1.32[8]', '1.61[9]', '1.75[10]', '1.76[11]', '1.48[12]', '1.54[13]', '1.75[14]', '2.13[15]']\n",
      "['Directed by', 'Justin Roiland', 'John Rice', 'John Rice', 'Jeff Myers', 'Bryan Newton', 'Stephen Sandoval', 'Jeff Myers', 'Bryan Newton', 'John Rice', 'Stephen Sandoval', 'Stephen Sandoval']\n"
     ]
    }
   ],
   "source": [
    "# Запустите эту ячейку\n",
    "titles = ['Title', '\"Pilot\"', '\"Lawnmower Dog\"', '\"Anatomy Park\"', '\"M. Night Shaym-Aliens!\"', '\"Meeseeks and Destroy\"', '\"Rick Potion #9\"', '\"Raising Gazorpazorp\"', '\"Rixty Minutes\"', '\"Something Ricked This Way Comes\"', '\"Close Rick-counters of the Rick Kind\"', '\"Ricksy Business\"']\n",
    "viewers = ['U.S. viewers(millions)', '1.10[5]', '1.51[6]', '1.30[7]', '1.32[8]', '1.61[9]', '1.75[10]', '1.76[11]', '1.48[12]', '1.54[13]', '1.75[14]', '2.13[15]']\n",
    "directors = ['Directed by', 'Justin Roiland', 'John Rice', 'John Rice', 'Jeff Myers', 'Bryan Newton', 'Stephen Sandoval', 'Jeff Myers', 'Bryan Newton', 'John Rice', 'Stephen Sandoval', 'Stephen Sandoval']\n",
    "\n",
    "print(titles)\n",
    "print(viewers)\n",
    "print(directors)"
   ]
  },
  {
   "cell_type": "code",
   "execution_count": 2,
   "metadata": {
    "colab": {
     "base_uri": "https://localhost:8080/",
     "height": 34
    },
    "colab_type": "code",
    "id": "pwLxGVugPVys",
    "outputId": "0eb3382d-eba5-4e68-8edb-2b3e15a57ac0"
   },
   "outputs": [],
   "source": [
    "# 1"
   ]
  },
  {
   "cell_type": "code",
   "execution_count": 3,
   "metadata": {},
   "outputs": [],
   "source": [
    "# 2"
   ]
  },
  {
   "cell_type": "code",
   "execution_count": 4,
   "metadata": {},
   "outputs": [],
   "source": [
    "# 3"
   ]
  },
  {
   "cell_type": "code",
   "execution_count": 5,
   "metadata": {},
   "outputs": [],
   "source": [
    "# 4"
   ]
  },
  {
   "cell_type": "code",
   "execution_count": 6,
   "metadata": {},
   "outputs": [],
   "source": [
    "# 5"
   ]
  }
 ],
 "metadata": {
  "colab": {
   "collapsed_sections": [],
   "name": "1_HW_RISO_Solved",
   "provenance": []
  },
  "kernelspec": {
   "display_name": "Python 3",
   "language": "python",
   "name": "python3"
  },
  "language_info": {
   "codemirror_mode": {
    "name": "ipython",
    "version": 3
   },
   "file_extension": ".py",
   "mimetype": "text/x-python",
   "name": "python",
   "nbconvert_exporter": "python",
   "pygments_lexer": "ipython3",
   "version": "3.6.5"
  }
 },
 "nbformat": 4,
 "nbformat_minor": 2
}
